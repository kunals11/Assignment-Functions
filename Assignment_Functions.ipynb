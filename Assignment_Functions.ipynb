{
  "nbformat": 4,
  "nbformat_minor": 0,
  "metadata": {
    "colab": {
      "provenance": []
    },
    "kernelspec": {
      "name": "python3",
      "display_name": "Python 3"
    },
    "language_info": {
      "name": "python"
    }
  },
  "cells": [
    {
      "cell_type": "markdown",
      "source": [
        "# **Theory Questions:**"
      ],
      "metadata": {
        "id": "_KQnsi0rftPQ"
      }
    },
    {
      "cell_type": "markdown",
      "source": [
        "1. What is the difference between a function and a method in Python?"
      ],
      "metadata": {
        "id": "bOCBGIKwtGT8"
      }
    },
    {
      "cell_type": "markdown",
      "source": [
        "Function: A block of code that works on its own.\n",
        "\n",
        "Method: A function that belongs to an object or class.\n",
        "\n"
      ],
      "metadata": {
        "id": "zksAJ4a7vdDY"
      }
    },
    {
      "cell_type": "code",
      "source": [
        "def add(a, b):\n",
        "    return a + b\n",
        "\n",
        "print(add(2, 3))  # Output: 5\n"
      ],
      "metadata": {
        "colab": {
          "base_uri": "https://localhost:8080/"
        },
        "id": "7Itkj7NeunFW",
        "outputId": "7d002118-5333-4395-9843-c1e1dcb7c870"
      },
      "execution_count": null,
      "outputs": [
        {
          "output_type": "stream",
          "name": "stdout",
          "text": [
            "5\n"
          ]
        }
      ]
    },
    {
      "cell_type": "code",
      "source": [
        "class Calculator:\n",
        "    def add(self, a, b):\n",
        "        return a + b\n",
        "\n",
        "calc = Calculator()\n",
        "print(calc.add(2, 3))  # Output: 5\n"
      ],
      "metadata": {
        "colab": {
          "base_uri": "https://localhost:8080/"
        },
        "id": "7yY9ueo-vjtT",
        "outputId": "91c1d5f8-a926-4465-d610-fccc6c2075cf"
      },
      "execution_count": null,
      "outputs": [
        {
          "output_type": "stream",
          "name": "stdout",
          "text": [
            "5\n"
          ]
        }
      ]
    },
    {
      "cell_type": "markdown",
      "source": [
        "2. Explain the concept of function arguments and parameters in Python."
      ],
      "metadata": {
        "id": "4NOa3wezvpJD"
      }
    },
    {
      "cell_type": "markdown",
      "source": [
        "Parameters are the names used in the function definition.\n",
        "\n",
        "Arguments are the actual values you pass to the function when calling it.\n",
        "\n"
      ],
      "metadata": {
        "id": "ezmi93X0v3h3"
      }
    },
    {
      "cell_type": "code",
      "source": [
        "def greet(name):  # 'name' is a parameter\n",
        "    print(\"Hello\", name)\n",
        "\n",
        "greet(\"Kunal\")     # \"Kunal\" is an argument\n"
      ],
      "metadata": {
        "colab": {
          "base_uri": "https://localhost:8080/"
        },
        "id": "gNSRIm9jvm_e",
        "outputId": "3f46061f-835c-42b6-ffd7-2a998788cdb5"
      },
      "execution_count": null,
      "outputs": [
        {
          "output_type": "stream",
          "name": "stdout",
          "text": [
            "Hello Kunal\n"
          ]
        }
      ]
    },
    {
      "cell_type": "markdown",
      "source": [
        "3. What are the different ways to define and call a function in Python?"
      ],
      "metadata": {
        "id": "yM1GSJa8w2zd"
      }
    },
    {
      "cell_type": "code",
      "source": [
        "def say_hello():\n",
        "    print(\"Hello!\")\n",
        "\n",
        "say_hello()\n",
        "\n",
        "\n",
        "def add(a, b):\n",
        "    print(a + b)\n",
        "\n",
        "\n",
        "\n",
        "add(2, 3)  # Output: 5\n",
        "\n",
        "\n",
        "\n",
        "def greet(name=\"User\"):\n",
        "    print(\"Hello\", name)\n",
        "\n",
        "\n",
        "\n",
        "greet()          # Output: Hello User\n",
        "greet(\"Kunal\")   # Output: Hello Kunal\n",
        "\n",
        "\n",
        "\n",
        "\n",
        "square = lambda x: x * x\n",
        "print(square(4))  # Output: 16\n",
        "\n",
        "\n"
      ],
      "metadata": {
        "colab": {
          "base_uri": "https://localhost:8080/"
        },
        "id": "fTcxxVTmyd8_",
        "outputId": "01819a9c-20c5-4200-d80d-637fb98f453e"
      },
      "execution_count": null,
      "outputs": [
        {
          "output_type": "stream",
          "name": "stdout",
          "text": [
            "Hello!\n",
            "5\n",
            "Hello User\n",
            "Hello Kunal\n",
            "16\n"
          ]
        }
      ]
    },
    {
      "cell_type": "markdown",
      "source": [
        "4. What is the purpose of the `return` statement in a Python function?"
      ],
      "metadata": {
        "id": "yQ-cW-GXzK7e"
      }
    },
    {
      "cell_type": "markdown",
      "source": [
        "Ans- The return statement in a Python function is used to send a value back to the place where the function was called."
      ],
      "metadata": {
        "id": "svWcerpEuXWf"
      }
    },
    {
      "cell_type": "code",
      "source": [
        "def add(a, b):\n",
        "    return a + b\n",
        "\n",
        "result = add(2, 3)\n",
        "print(result)  # Output: 5\n"
      ],
      "metadata": {
        "id": "acjs5_NFzHEB",
        "colab": {
          "base_uri": "https://localhost:8080/"
        },
        "outputId": "b4055eea-9026-4add-b67a-17271a5fd25e"
      },
      "execution_count": null,
      "outputs": [
        {
          "output_type": "stream",
          "name": "stdout",
          "text": [
            "5\n"
          ]
        }
      ]
    },
    {
      "cell_type": "markdown",
      "source": [
        "5. What are iterators in Python and how do they differ from iterables?\n",
        "\n"
      ],
      "metadata": {
        "id": "3C24pV4cwUW6"
      }
    },
    {
      "cell_type": "markdown",
      "source": [
        "Ans- . Iterables are objects you can loop over (like list, tuple, string).\n",
        "\n",
        ". Iterators are objects that keep track of where you are during iteration."
      ],
      "metadata": {
        "id": "UTQ0zzncwYS7"
      }
    },
    {
      "cell_type": "markdown",
      "source": [
        "| Feature  | Iterable                  | Iterator                        |\n",
        "| -------- | ------------------------- | ------------------------------- |\n",
        "| Meaning  | Can be looped over        | Gives one value at a time       |\n",
        "| Examples | `list`, `tuple`, `string` | Created using `iter()` function |\n",
        "| Function | Uses `__iter__()` method  | Uses `__next__()` method        |\n"
      ],
      "metadata": {
        "id": "GklSgv8CxHlK"
      }
    },
    {
      "cell_type": "code",
      "source": [
        "# Iterable\n",
        "nums = [1, 2, 3]\n",
        "\n",
        "# Create iterator from iterable\n",
        "it = iter(nums)\n",
        "\n",
        "print(next(it))  # Output: 1\n",
        "print(next(it))  # Output: 2\n",
        "\n",
        "\n",
        "\n",
        "#Iterable gives data to Iterator, and Iterator gives one item at a time using next()\n"
      ],
      "metadata": {
        "colab": {
          "base_uri": "https://localhost:8080/"
        },
        "id": "V1wHTk5hxnum",
        "outputId": "939aebff-6ff5-4d0c-9f67-5762cad80115"
      },
      "execution_count": null,
      "outputs": [
        {
          "output_type": "stream",
          "name": "stdout",
          "text": [
            "1\n",
            "2\n"
          ]
        }
      ]
    },
    {
      "cell_type": "markdown",
      "source": [
        "6. Explain the concept of generators in Python and how they are defined."
      ],
      "metadata": {
        "id": "J5BZOwLgyg7A"
      }
    },
    {
      "cell_type": "markdown",
      "source": [
        "A generator in Python is a special type of function that yields values one at a time using the yield keyword, instead of returning all values at once."
      ],
      "metadata": {
        "id": "bPfKCJfayqTx"
      }
    },
    {
      "cell_type": "code",
      "source": [
        "#how to defined a  generators.\n",
        "\n",
        "\n",
        "def my_gen():\n",
        "    yield 1\n",
        "    yield 2\n",
        "    yield 3\n",
        "\n",
        "\n",
        "    #When you call my_gen(), it doesn’t run the function, it gives a generator object. You can use next() to get each value one by one.\n",
        "\n",
        "#EX\n",
        "\n",
        "gen = my_gen()\n",
        "\n",
        "print(next(gen))  # Output: 1\n",
        "print(next(gen))  # Output: 2\n",
        "print(next(gen))  # Output: 3\n",
        "\n"
      ],
      "metadata": {
        "colab": {
          "base_uri": "https://localhost:8080/"
        },
        "id": "Ngek-d4RzdpO",
        "outputId": "7eb4b539-a644-4643-c5f2-7760a056f763"
      },
      "execution_count": null,
      "outputs": [
        {
          "output_type": "stream",
          "name": "stdout",
          "text": [
            "1\n",
            "2\n",
            "3\n"
          ]
        }
      ]
    },
    {
      "cell_type": "markdown",
      "source": [
        "Key Points:\n",
        "Uses yield instead of return\n",
        "\n",
        "- Saves memory (does not store all values at once)\n",
        "\n",
        "- for large data or infinite sequences\n",
        "\n",
        "- me know if you want a real-life example too!"
      ],
      "metadata": {
        "id": "SH3Nk1ET0LrQ"
      }
    },
    {
      "cell_type": "markdown",
      "source": [
        "7. What are the advantages of using generators over regular functions?"
      ],
      "metadata": {
        "id": "P1zpOX9G0trv"
      }
    },
    {
      "cell_type": "markdown",
      "source": [
        "Ans- Generators have several advantages over regular functions:"
      ],
      "metadata": {
        "id": "S3XPI-pi0xLV"
      }
    },
    {
      "cell_type": "markdown",
      "source": [
        "Advantages of Generators.\n",
        "1. Save Memory\n",
        "\n",
        "- Generators don’t store all values in memory. They generate values one at a time.\n",
        "\n",
        "2. Faster for Large Data\n",
        "\n",
        "- Useful when working with big data or long sequences.\n",
        "\n",
        "3.  Evaluation\n",
        "\n",
        "- Values are produced only when needed, not all at once.\n",
        "\n",
        "4. Simpler Code\n",
        "\n",
        "- Easier to write than using loops with classes or lists."
      ],
      "metadata": {
        "id": "LGoYh-fK05Vu"
      }
    },
    {
      "cell_type": "code",
      "source": [
        "#Example Comparison:\n",
        "\n",
        "#Regular Function\n",
        "def get_nums():\n",
        "    return [1, 2, 3]  # stores all values at once\n",
        "\n",
        "\n",
        "#Generator:\n",
        "def get_nums():\n",
        "    yield 1\n",
        "    yield 2\n",
        "    yield 3  # gives values one at a time\n",
        "\n",
        "\n",
        "\n",
        "\n"
      ],
      "metadata": {
        "id": "8ZNyLNcT0WLB"
      },
      "execution_count": null,
      "outputs": []
    },
    {
      "cell_type": "markdown",
      "source": [
        "8. What is a lambda function in Python and when is it typically used?"
      ],
      "metadata": {
        "id": "MQSt7aOo2bgM"
      }
    },
    {
      "cell_type": "markdown",
      "source": [
        "Ans- A lambda function in Python is a small, anonymous function (without a name) used for short, simple tasks.\n",
        "\n"
      ],
      "metadata": {
        "id": "IRLJizw82gVW"
      }
    },
    {
      "cell_type": "code",
      "source": [
        "# Syntax:\n",
        "\n",
        "lambda arguments: expression\n",
        "\n",
        "\n",
        "#Example:\n",
        "\n",
        "#add = lambda x, y: x + y\n",
        "print(add(2, 3))  # Output: 5\n",
        "\n",
        "\n",
        "\n",
        "#Used When:\n",
        "#You need a quick function for a short time\n",
        "#Inside functions like map(), filter(), sorted()\n",
        "\n",
        "\n",
        "\n",
        "\n",
        "# Example with filter():\n",
        "nums = [1, 2, 3, 4]\n",
        "even = list(filter(lambda x: x % 2 == 0, nums))\n",
        "print(even)  # Output: [2, 4]\n",
        "\n",
        "\n",
        "\n",
        "\n",
        "\n"
      ],
      "metadata": {
        "colab": {
          "base_uri": "https://localhost:8080/"
        },
        "id": "MS-GzpsP2f1-",
        "outputId": "4f6088cb-6401-4795-9f3f-cf1987d4d92c"
      },
      "execution_count": null,
      "outputs": [
        {
          "output_type": "stream",
          "name": "stdout",
          "text": [
            "5\n",
            "[2, 4]\n"
          ]
        }
      ]
    },
    {
      "cell_type": "markdown",
      "source": [
        "\n",
        "9. Explain the purpose and usage of the `map()` function in Python."
      ],
      "metadata": {
        "id": "FChXlgtw3x6Q"
      }
    },
    {
      "cell_type": "markdown",
      "source": [
        " Syntax:\n",
        "\n",
        " map(function, iterable)\n",
        "\n",
        "\n",
        "\n",
        " Purpose:\n",
        "To transform each element of an iterable using a function."
      ],
      "metadata": {
        "id": "1yELQvog37Ec"
      }
    },
    {
      "cell_type": "code",
      "source": [
        "#Exampel\n",
        "\n",
        "nums = [1, 2, 3, 4]\n",
        "squared = list(map(lambda x: x**2, nums))\n",
        "print(squared)  # Output: [1, 4, 9, 16]\n"
      ],
      "metadata": {
        "colab": {
          "base_uri": "https://localhost:8080/"
        },
        "id": "SXV-Fxgp4EpJ",
        "outputId": "c35239f1-7ae2-461c-bd7d-d1c81718ec34"
      },
      "execution_count": null,
      "outputs": [
        {
          "output_type": "stream",
          "name": "stdout",
          "text": [
            "[1, 4, 9, 16]\n"
          ]
        }
      ]
    },
    {
      "cell_type": "markdown",
      "source": [
        " Points:\n",
        " - Returns  a map object (convert to list to see results)\n",
        "\n",
        " - Useful for clean, fast transformations\n",
        "\n",
        " - Can be used with lambda or normal functions\n",
        "\n"
      ],
      "metadata": {
        "id": "NacBOQTy4qw6"
      }
    },
    {
      "cell_type": "markdown",
      "source": [
        "10. What is the difference between `map()`, `reduce()`, and `filter()` functions in Python?"
      ],
      "metadata": {
        "id": "licvjZ4v5KQC"
      }
    },
    {
      "cell_type": "markdown",
      "source": [
        "Ans - map(), reduce(), and filter() are Python functions used for processing data in a functional way. Here's the difference:\n",
        "\n",
        " map()\n",
        "\n",
        "Applies a function to each item in an iterable.\n"
      ],
      "metadata": {
        "id": "lxvyA3ka5Ls0"
      }
    },
    {
      "cell_type": "code",
      "source": [
        "nums = [1, 2, 3]\n",
        "result = list(map(lambda x: x * 2, nums))\n",
        "# Output: [2, 4, 6]\n"
      ],
      "metadata": {
        "id": "nXAWlqCE4kvd"
      },
      "execution_count": null,
      "outputs": []
    },
    {
      "cell_type": "markdown",
      "source": [
        "filter()\n",
        "  \n",
        "Filters items based on a condition (True/False)."
      ],
      "metadata": {
        "id": "QKCh9eWP5m63"
      }
    },
    {
      "cell_type": "code",
      "source": [
        "nums = [1, 2, 3, 4]\n",
        "result = list(filter(lambda x: x % 2 == 0, nums))\n",
        "# Output: [2, 4]\n"
      ],
      "metadata": {
        "id": "U3Io0ByI5mKo"
      },
      "execution_count": null,
      "outputs": []
    },
    {
      "cell_type": "markdown",
      "source": [
        "- reduce() (from functools module)\n",
        "- Reduces the list to a single value by applying a function repeatedly."
      ],
      "metadata": {
        "id": "_0Lm0SSp5_Io"
      }
    },
    {
      "cell_type": "code",
      "source": [
        "from functools import reduce\n",
        "nums = [1, 2, 3, 4]\n",
        "result = reduce(lambda x, y: x + y, nums)\n",
        "# Output: 10\n"
      ],
      "metadata": {
        "id": "99J1xSuX506Q"
      },
      "execution_count": null,
      "outputs": []
    },
    {
      "cell_type": "markdown",
      "source": [
        "| Function   | Use for      | Returns      |\n",
        "| ---------- | ------------ | ------------ |\n",
        "| `map()`    | Transforming | New iterable |\n",
        "| `filter()` | Filtering    | New iterable |\n",
        "| `reduce()` | Combining    | Single value |\n"
      ],
      "metadata": {
        "id": "DftiY5Ca6bh9"
      }
    },
    {
      "cell_type": "markdown",
      "source": [
        "11.ans - - The steps are:\n",
        "    - Step 1: 47 + 11 = 58\n",
        "    - Step 2: 58 + 42 = 100\n",
        "    - Step 3: 100 + 13 = 113\n",
        "- The final result is 113."
      ],
      "metadata": {
        "id": "GWldNkgdV2G1"
      }
    },
    {
      "cell_type": "markdown",
      "source": [
        "# **Practical Questions:**"
      ],
      "metadata": {
        "id": "HmmwTPK3WUV4"
      }
    },
    {
      "cell_type": "markdown",
      "source": [
        "1. 1. Write a Python function that takes a list of numbers as input and returns the sum of all even numbers in\n",
        "the list."
      ],
      "metadata": {
        "id": "KQ_QsYu8XRJe"
      }
    },
    {
      "cell_type": "code",
      "source": [
        "def sum_even_numbers(nums):\n",
        "    total = 0\n",
        "    for n in nums:\n",
        "        if n % 2 == 0:\n",
        "            total += n\n",
        "    return total\n",
        "\n"
      ],
      "metadata": {
        "id": "eJF1M1NU6PGM"
      },
      "execution_count": null,
      "outputs": []
    },
    {
      "cell_type": "markdown",
      "source": [
        "2. Create a Python function that accepts a string and returns the reverse of that string."
      ],
      "metadata": {
        "id": "YkbWeSwwXZS3"
      }
    },
    {
      "cell_type": "code",
      "source": [
        "def reverse_string(s):\n",
        "    return s[::-1]\n"
      ],
      "metadata": {
        "id": "CzQNUyXwXWty"
      },
      "execution_count": null,
      "outputs": []
    },
    {
      "cell_type": "markdown",
      "source": [
        "3. Implement a Python function that takes a list of integers and returns a new list containing the squares of\n",
        "each number."
      ],
      "metadata": {
        "id": "i_8bhlgaYjiW"
      }
    },
    {
      "cell_type": "code",
      "source": [
        "def square_numbers(numbers):\n",
        "    return [x**2 for x in numbers]\n",
        "\n",
        "# Example usage:\n",
        "nums = [1, 2, 3, 4, 5]\n",
        "squared = square_numbers(nums)\n",
        "print(squared)  # Output: [1, 4, 9, 16, 25]\n"
      ],
      "metadata": {
        "colab": {
          "base_uri": "https://localhost:8080/"
        },
        "id": "uUwDeA19YGSh",
        "outputId": "2b15c298-d676-4942-f5d2-fa331bd7e5a1"
      },
      "execution_count": null,
      "outputs": [
        {
          "output_type": "stream",
          "name": "stdout",
          "text": [
            "[1, 4, 9, 16, 25]\n"
          ]
        }
      ]
    },
    {
      "cell_type": "markdown",
      "source": [
        "4. Write a Python function that checks if a given number is prime or not from 1 to 200."
      ],
      "metadata": {
        "id": "6dj5HNP5Y5FZ"
      }
    },
    {
      "cell_type": "code",
      "source": [
        "def is_prime(n):\n",
        "    if n < 2:\n",
        "        return False  # 0 and 1 are not prime\n",
        "    for i in range(2, int(n**0.5) + 1):  # Check up to square root of n\n",
        "        if n % i == 0:\n",
        "            return False\n",
        "    return True\n",
        "\n",
        "# Example usage:\n",
        "for num in range(1, 201):\n",
        "    if is_prime(num):\n",
        "        print(f\"{num} is a prime number.\")\n"
      ],
      "metadata": {
        "colab": {
          "base_uri": "https://localhost:8080/"
        },
        "id": "Vjid5N72Yu04",
        "outputId": "3a198479-3d70-4a49-a757-fae8322b85eb"
      },
      "execution_count": null,
      "outputs": [
        {
          "output_type": "stream",
          "name": "stdout",
          "text": [
            "2 is a prime number.\n",
            "3 is a prime number.\n",
            "5 is a prime number.\n",
            "7 is a prime number.\n",
            "11 is a prime number.\n",
            "13 is a prime number.\n",
            "17 is a prime number.\n",
            "19 is a prime number.\n",
            "23 is a prime number.\n",
            "29 is a prime number.\n",
            "31 is a prime number.\n",
            "37 is a prime number.\n",
            "41 is a prime number.\n",
            "43 is a prime number.\n",
            "47 is a prime number.\n",
            "53 is a prime number.\n",
            "59 is a prime number.\n",
            "61 is a prime number.\n",
            "67 is a prime number.\n",
            "71 is a prime number.\n",
            "73 is a prime number.\n",
            "79 is a prime number.\n",
            "83 is a prime number.\n",
            "89 is a prime number.\n",
            "97 is a prime number.\n",
            "101 is a prime number.\n",
            "103 is a prime number.\n",
            "107 is a prime number.\n",
            "109 is a prime number.\n",
            "113 is a prime number.\n",
            "127 is a prime number.\n",
            "131 is a prime number.\n",
            "137 is a prime number.\n",
            "139 is a prime number.\n",
            "149 is a prime number.\n",
            "151 is a prime number.\n",
            "157 is a prime number.\n",
            "163 is a prime number.\n",
            "167 is a prime number.\n",
            "173 is a prime number.\n",
            "179 is a prime number.\n",
            "181 is a prime number.\n",
            "191 is a prime number.\n",
            "193 is a prime number.\n",
            "197 is a prime number.\n",
            "199 is a prime number.\n"
          ]
        }
      ]
    },
    {
      "cell_type": "markdown",
      "source": [
        "5. Create an iterator class in Python that generates the Fibonacci sequence up to a specified number of\n",
        "terms."
      ],
      "metadata": {
        "id": "DTwdrJl3ZIAp"
      }
    },
    {
      "cell_type": "code",
      "source": [
        "class FibonacciIterator:\n",
        "    def __init__(self, max_terms):\n",
        "        self.max_terms = max_terms\n",
        "        self.count = 0\n",
        "        self.a = 0\n",
        "        self.b = 1\n",
        "\n",
        "    def __iter__(self):\n",
        "        return self  # Iterator object returns itself\n",
        "\n",
        "    def __next__(self):\n",
        "        if self.count >= self.max_terms:\n",
        "            raise StopIteration  # Stop when max terms are reached\n",
        "        if self.count == 0:\n",
        "            self.count += 1\n",
        "            return 0\n"
      ],
      "metadata": {
        "id": "TLQd0dlmY-Y2"
      },
      "execution_count": null,
      "outputs": []
    },
    {
      "cell_type": "markdown",
      "source": [
        "6. Write a generator function in Python that yields the powers of 2 up to a given exponent"
      ],
      "metadata": {
        "id": "vpgLsgPAZUmq"
      }
    },
    {
      "cell_type": "code",
      "source": [
        "def powers_of_two(max_exponent):\n",
        "    for i in range(max_exponent + 1):\n",
        "        yield 2 ** i\n",
        "\n",
        "# Example usage:\n",
        "for value in powers_of_two(5):\n",
        "    print(value)\n"
      ],
      "metadata": {
        "colab": {
          "base_uri": "https://localhost:8080/"
        },
        "id": "c6z0woHKZOmf",
        "outputId": "cd0f447e-e139-4c23-a55b-f9b1e6934510"
      },
      "execution_count": null,
      "outputs": [
        {
          "output_type": "stream",
          "name": "stdout",
          "text": [
            "1\n",
            "2\n",
            "4\n",
            "8\n",
            "16\n",
            "32\n"
          ]
        }
      ]
    },
    {
      "cell_type": "markdown",
      "source": [
        "7. Implement a generator function that reads a file line by line and yields each line as a string."
      ],
      "metadata": {
        "id": "PekG32KrZchd"
      }
    },
    {
      "cell_type": "code",
      "source": [
        "def read_lines(filename):\n",
        "    try:\n",
        "        with open(filename, 'r') as file:\n",
        "            for line in file:\n",
        "                yield line.strip()  # Removes newline and extra spaces\n",
        "    except FileNotFoundError:\n",
        "        print(f\"File '{filename}' not found.\")\n",
        "\n",
        "# Example usage:\n",
        "for line in read_lines('example.txt'):\n",
        "    print(line)\n"
      ],
      "metadata": {
        "colab": {
          "base_uri": "https://localhost:8080/"
        },
        "id": "ZrDJaqcDZf3g",
        "outputId": "a82d699e-9c7d-469f-c867-78ea3d4a088a"
      },
      "execution_count": null,
      "outputs": [
        {
          "output_type": "stream",
          "name": "stdout",
          "text": [
            "File 'example.txt' not found.\n"
          ]
        }
      ]
    },
    {
      "cell_type": "markdown",
      "source": [
        "8. Use a lambda function in Python to sort a list of tuples based on the second element of each tuple."
      ],
      "metadata": {
        "id": "rle2B7twZsnH"
      }
    },
    {
      "cell_type": "code",
      "source": [
        "# Sample list of tuples\n",
        "data = [(1, 5), (3, 2), (4, 8), (2, 1)]\n",
        "\n",
        "# Sort using lambda based on the second element (index 1)\n",
        "sorted_data = sorted(data, key=lambda x: x[1])\n",
        "\n",
        "print(sorted_data)\n"
      ],
      "metadata": {
        "colab": {
          "base_uri": "https://localhost:8080/"
        },
        "id": "TX1_0x7QZnJF",
        "outputId": "0c31f8ce-b1ac-4e1d-9e77-0737e8f77e14"
      },
      "execution_count": null,
      "outputs": [
        {
          "output_type": "stream",
          "name": "stdout",
          "text": [
            "[(2, 1), (3, 2), (1, 5), (4, 8)]\n"
          ]
        }
      ]
    },
    {
      "cell_type": "markdown",
      "source": [
        "9. Write a Python program that uses `map()` to convert a list of temperatures from Celsius to Fahrenheit."
      ],
      "metadata": {
        "id": "yRAhFTqSZ5bt"
      }
    },
    {
      "cell_type": "code",
      "source": [
        "# List of temperatures in Celsius\n",
        "celsius = [0, 20, 37, 100]\n",
        "\n",
        "# Formula: F = C * 9/5 + 32\n",
        "fahrenheit = list(map(lambda c: (c * 9/5) + 32, celsius))\n",
        "\n",
        "# Print the result\n",
        "print(\"Fahrenheit:\", fahrenheit)\n"
      ],
      "metadata": {
        "colab": {
          "base_uri": "https://localhost:8080/"
        },
        "id": "nGPYe7iZZzl0",
        "outputId": "9cb103bc-706d-40d8-c619-bc6bb8cff07c"
      },
      "execution_count": null,
      "outputs": [
        {
          "output_type": "stream",
          "name": "stdout",
          "text": [
            "Fahrenheit: [32.0, 68.0, 98.6, 212.0]\n"
          ]
        }
      ]
    },
    {
      "cell_type": "markdown",
      "source": [
        "10. Create a Python program that uses `filter()` to remove all the vowels from a given string."
      ],
      "metadata": {
        "id": "YN8d0DB2aI7o"
      }
    },
    {
      "cell_type": "code",
      "source": [
        "def remove_vowels(text):\n",
        "    vowels = 'aeiouAEIOU'\n",
        "    return ''.join(filter(lambda ch: ch not in vowels, text))\n",
        "\n",
        "# Example usage\n",
        "input_string = \"Hello, how are you?\"\n",
        "result = remove_vowels(input_string)\n",
        "\n",
        "print(\"Original:\", input_string)\n",
        "print(\"Without vowels:\", result)\n"
      ],
      "metadata": {
        "colab": {
          "base_uri": "https://localhost:8080/"
        },
        "id": "wjTbZ_RvaEQr",
        "outputId": "e9cd0f62-dd4f-4cac-8a8c-a28f8ddfec3c"
      },
      "execution_count": null,
      "outputs": [
        {
          "output_type": "stream",
          "name": "stdout",
          "text": [
            "Original: Hello, how are you?\n",
            "Without vowels: Hll, hw r y?\n"
          ]
        }
      ]
    },
    {
      "cell_type": "markdown",
      "source": [
        "11) Imagine an accounting routine used in a book shop. It works on a list with sublists, which look like this:\n",
        "\n",
        "[34587, \"Learning Python, Mark Lutz\", 4, 40.95],\n",
        "    [98762, \"Programming Python, Mark Lutz\", 5, 56.80],\n",
        "    [77226, \"Head First Python, Paul Barry\", 3, 32.95],\n",
        "    [88112, \"Einfürung in Python3, Bernd Klein\", 3, 24.99]\n",
        "]\n",
        "\n",
        "\n",
        "\n",
        "\n",
        "\n",
        "Write a Python program, which returns a list with 2-tuples. Each tuple consists of the order number and the\n",
        "product of the price per item and the quantity. The product should be increased by 10,- € if the value of the\n",
        "order is smaller than 100,00 €.\n",
        "\n",
        "Write a Python program using lambda and map."
      ],
      "metadata": {
        "id": "QFRDQEBLcWsR"
      }
    },
    {
      "cell_type": "code",
      "source": [
        "# Define the data\n",
        "orders = [\n",
        "    [34587, \"Learning Python, Mark Lutz\", 4, 40.95],\n",
        "    [98762, \"Programming Python, Mark Lutz\", 5, 56.80],\n",
        "    [77226, \"Head First Python, Paul Barry\", 3, 32.95],\n",
        "    [88112, \"Einfürung in Python3, Bernd Klein\", 3, 24.99]\n",
        "]\n",
        "\n",
        "# Use map and lambda to calculate the desired output\n",
        "result = list(map(\n",
        "    lambda order: (order[0], order[2] * order[3] + 10 if order[2] * order[3] < 100 else order[2] * order[3]),\n",
        "    orders\n",
        "))\n",
        "\n",
        "# Print the result\n",
        "print(result)"
      ],
      "metadata": {
        "colab": {
          "base_uri": "https://localhost:8080/"
        },
        "id": "Mfu8wZTycXRh",
        "outputId": "7b22e886-778a-453a-bf11-f11aa0864eb9"
      },
      "execution_count": null,
      "outputs": [
        {
          "output_type": "stream",
          "name": "stdout",
          "text": [
            "[(34587, 163.8), (98762, 284.0), (77226, 108.85000000000001), (88112, 84.97)]\n"
          ]
        }
      ]
    },
    {
      "cell_type": "code",
      "source": [],
      "metadata": {
        "id": "UF3SFUZEeqmT"
      },
      "execution_count": null,
      "outputs": []
    }
  ]
}